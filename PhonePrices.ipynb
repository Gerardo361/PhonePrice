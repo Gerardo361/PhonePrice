{
 "cells": [
  {
   "cell_type": "code",
   "execution_count": 1,
   "metadata": {},
   "outputs": [],
   "source": [
    "import pandas as pd"
   ]
  },
  {
   "cell_type": "code",
   "execution_count": 2,
   "metadata": {},
   "outputs": [
    {
     "data": {
      "text/html": [
       "<div>\n",
       "<style scoped>\n",
       "    .dataframe tbody tr th:only-of-type {\n",
       "        vertical-align: middle;\n",
       "    }\n",
       "\n",
       "    .dataframe tbody tr th {\n",
       "        vertical-align: top;\n",
       "    }\n",
       "\n",
       "    .dataframe thead th {\n",
       "        text-align: right;\n",
       "    }\n",
       "</style>\n",
       "<table border=\"1\" class=\"dataframe\">\n",
       "  <thead>\n",
       "    <tr style=\"text-align: right;\">\n",
       "      <th></th>\n",
       "      <th>Company Name</th>\n",
       "      <th>Model Name</th>\n",
       "      <th>Mobile Weight</th>\n",
       "      <th>RAM</th>\n",
       "      <th>Front Camera</th>\n",
       "      <th>Back Camera</th>\n",
       "      <th>Processor</th>\n",
       "      <th>Battery Capacity</th>\n",
       "      <th>Screen Size</th>\n",
       "      <th>Launched Price (Pakistan)</th>\n",
       "      <th>Launched Price (India)</th>\n",
       "      <th>Launched Price (China)</th>\n",
       "      <th>Launched Price (USA)</th>\n",
       "      <th>Launched Price (Dubai)</th>\n",
       "      <th>Launched Year</th>\n",
       "    </tr>\n",
       "  </thead>\n",
       "  <tbody>\n",
       "    <tr>\n",
       "      <th>0</th>\n",
       "      <td>Apple</td>\n",
       "      <td>iPhone 16 128GB</td>\n",
       "      <td>174g</td>\n",
       "      <td>6GB</td>\n",
       "      <td>12MP</td>\n",
       "      <td>48MP</td>\n",
       "      <td>A17 Bionic</td>\n",
       "      <td>3,600mAh</td>\n",
       "      <td>6.1 inches</td>\n",
       "      <td>PKR 224,999</td>\n",
       "      <td>INR 79,999</td>\n",
       "      <td>CNY 5,799</td>\n",
       "      <td>USD 799</td>\n",
       "      <td>AED 2,799</td>\n",
       "      <td>2024</td>\n",
       "    </tr>\n",
       "    <tr>\n",
       "      <th>1</th>\n",
       "      <td>Apple</td>\n",
       "      <td>iPhone 16 256GB</td>\n",
       "      <td>174g</td>\n",
       "      <td>6GB</td>\n",
       "      <td>12MP</td>\n",
       "      <td>48MP</td>\n",
       "      <td>A17 Bionic</td>\n",
       "      <td>3,600mAh</td>\n",
       "      <td>6.1 inches</td>\n",
       "      <td>PKR 234,999</td>\n",
       "      <td>INR 84,999</td>\n",
       "      <td>CNY 6,099</td>\n",
       "      <td>USD 849</td>\n",
       "      <td>AED 2,999</td>\n",
       "      <td>2024</td>\n",
       "    </tr>\n",
       "    <tr>\n",
       "      <th>2</th>\n",
       "      <td>Apple</td>\n",
       "      <td>iPhone 16 512GB</td>\n",
       "      <td>174g</td>\n",
       "      <td>6GB</td>\n",
       "      <td>12MP</td>\n",
       "      <td>48MP</td>\n",
       "      <td>A17 Bionic</td>\n",
       "      <td>3,600mAh</td>\n",
       "      <td>6.1 inches</td>\n",
       "      <td>PKR 244,999</td>\n",
       "      <td>INR 89,999</td>\n",
       "      <td>CNY 6,499</td>\n",
       "      <td>USD 899</td>\n",
       "      <td>AED 3,199</td>\n",
       "      <td>2024</td>\n",
       "    </tr>\n",
       "    <tr>\n",
       "      <th>3</th>\n",
       "      <td>Apple</td>\n",
       "      <td>iPhone 16 Plus 128GB</td>\n",
       "      <td>203g</td>\n",
       "      <td>6GB</td>\n",
       "      <td>12MP</td>\n",
       "      <td>48MP</td>\n",
       "      <td>A17 Bionic</td>\n",
       "      <td>4,200mAh</td>\n",
       "      <td>6.7 inches</td>\n",
       "      <td>PKR 249,999</td>\n",
       "      <td>INR 89,999</td>\n",
       "      <td>CNY 6,199</td>\n",
       "      <td>USD 899</td>\n",
       "      <td>AED 3,199</td>\n",
       "      <td>2024</td>\n",
       "    </tr>\n",
       "    <tr>\n",
       "      <th>4</th>\n",
       "      <td>Apple</td>\n",
       "      <td>iPhone 16 Plus 256GB</td>\n",
       "      <td>203g</td>\n",
       "      <td>6GB</td>\n",
       "      <td>12MP</td>\n",
       "      <td>48MP</td>\n",
       "      <td>A17 Bionic</td>\n",
       "      <td>4,200mAh</td>\n",
       "      <td>6.7 inches</td>\n",
       "      <td>PKR 259,999</td>\n",
       "      <td>INR 94,999</td>\n",
       "      <td>CNY 6,499</td>\n",
       "      <td>USD 949</td>\n",
       "      <td>AED 3,399</td>\n",
       "      <td>2024</td>\n",
       "    </tr>\n",
       "  </tbody>\n",
       "</table>\n",
       "</div>"
      ],
      "text/plain": [
       "  Company Name            Model Name Mobile Weight  RAM Front Camera  \\\n",
       "0        Apple       iPhone 16 128GB          174g  6GB         12MP   \n",
       "1        Apple       iPhone 16 256GB          174g  6GB         12MP   \n",
       "2        Apple       iPhone 16 512GB          174g  6GB         12MP   \n",
       "3        Apple  iPhone 16 Plus 128GB          203g  6GB         12MP   \n",
       "4        Apple  iPhone 16 Plus 256GB          203g  6GB         12MP   \n",
       "\n",
       "  Back Camera   Processor Battery Capacity Screen Size  \\\n",
       "0        48MP  A17 Bionic         3,600mAh  6.1 inches   \n",
       "1        48MP  A17 Bionic         3,600mAh  6.1 inches   \n",
       "2        48MP  A17 Bionic         3,600mAh  6.1 inches   \n",
       "3        48MP  A17 Bionic         4,200mAh  6.7 inches   \n",
       "4        48MP  A17 Bionic         4,200mAh  6.7 inches   \n",
       "\n",
       "  Launched Price (Pakistan) Launched Price (India) Launched Price (China)  \\\n",
       "0               PKR 224,999             INR 79,999              CNY 5,799   \n",
       "1               PKR 234,999             INR 84,999              CNY 6,099   \n",
       "2               PKR 244,999             INR 89,999              CNY 6,499   \n",
       "3               PKR 249,999             INR 89,999              CNY 6,199   \n",
       "4               PKR 259,999             INR 94,999              CNY 6,499   \n",
       "\n",
       "  Launched Price (USA) Launched Price (Dubai)  Launched Year  \n",
       "0              USD 799              AED 2,799           2024  \n",
       "1              USD 849              AED 2,999           2024  \n",
       "2              USD 899              AED 3,199           2024  \n",
       "3              USD 899              AED 3,199           2024  \n",
       "4              USD 949              AED 3,399           2024  "
      ]
     },
     "execution_count": 2,
     "metadata": {},
     "output_type": "execute_result"
    }
   ],
   "source": [
    "df = pd.read_csv(\"C:/Users/PC/Documents/archive/Mobiles Dataset (2025).csv\", encoding='ISO-8859-1')\n",
    "df.head()"
   ]
  },
  {
   "cell_type": "code",
   "execution_count": 3,
   "metadata": {},
   "outputs": [],
   "source": [
    "df = df.drop(['Launched Price (Pakistan)','Launched Price (India)','Launched Price (China)','Launched Price (Dubai)'], axis=1)"
   ]
  },
  {
   "cell_type": "code",
   "execution_count": 4,
   "metadata": {},
   "outputs": [],
   "source": [
    "df['Launched Price (USA)'] = df['Launched Price (USA)'].str.replace('USD', '', regex = False)\n",
    "df['Launched Price (USA)'] = df['Launched Price (USA)'].str.replace(',', '', regex = False)\n",
    "df['Launched Price (USA)'] = df['Launched Price (USA)'].astype(float)\n",
    "df['Launched Year'] = df['Launched Year'].astype(str)"
   ]
  },
  {
   "cell_type": "code",
   "execution_count": 5,
   "metadata": {},
   "outputs": [],
   "source": [
    "Company_mean_median =df.groupby(['Company Name'], as_index= False)['Launched Price (USA)'].agg(['mean', 'median'])\n",
    "Company_mean_median = Company_mean_median[Company_mean_median['Company Name']!='Nokia']"
   ]
  },
  {
   "cell_type": "code",
   "execution_count": 6,
   "metadata": {},
   "outputs": [
    {
     "data": {
      "text/plain": [
       "<Axes: xlabel='Company Name'>"
      ]
     },
     "execution_count": 6,
     "metadata": {},
     "output_type": "execute_result"
    },
    {
     "data": {
      "image/png": "[encoded data removed]",
      "text/plain": [
       "<Figure size 640x480 with 1 Axes>"
      ]
     },
     "metadata": {},
     "output_type": "display_data"
    }
   ],
   "source": [
    "Company_mean_median.plot(x='Company Name', y = 'mean', kind= 'bar', color = 'skyblue')"
   ]
  },
  {
   "cell_type": "code",
   "execution_count": 10,
   "metadata": {},
   "outputs": [
    {
     "data": {
      "text/html": [
       "<div>\n",
       "<style scoped>\n",
       "    .dataframe tbody tr th:only-of-type {\n",
       "        vertical-align: middle;\n",
       "    }\n",
       "\n",
       "    .dataframe tbody tr th {\n",
       "        vertical-align: top;\n",
       "    }\n",
       "\n",
       "    .dataframe thead th {\n",
       "        text-align: right;\n",
       "    }\n",
       "</style>\n",
       "<table border=\"1\" class=\"dataframe\">\n",
       "  <thead>\n",
       "    <tr style=\"text-align: right;\">\n",
       "      <th></th>\n",
       "      <th>RAM</th>\n",
       "      <th>mean</th>\n",
       "      <th>median</th>\n",
       "    </tr>\n",
       "  </thead>\n",
       "  <tbody>\n",
       "    <tr>\n",
       "      <th>0</th>\n",
       "      <td>1.5GB</td>\n",
       "      <td>114.000000</td>\n",
       "      <td>114.0</td>\n",
       "    </tr>\n",
       "    <tr>\n",
       "      <th>1</th>\n",
       "      <td>10GB</td>\n",
       "      <td>799.000000</td>\n",
       "      <td>799.0</td>\n",
       "    </tr>\n",
       "    <tr>\n",
       "      <th>2</th>\n",
       "      <td>12GB</td>\n",
       "      <td>902.905492</td>\n",
       "      <td>799.0</td>\n",
       "    </tr>\n",
       "    <tr>\n",
       "      <th>3</th>\n",
       "      <td>16GB</td>\n",
       "      <td>960.096774</td>\n",
       "      <td>999.0</td>\n",
       "    </tr>\n",
       "    <tr>\n",
       "      <th>4</th>\n",
       "      <td>1GB</td>\n",
       "      <td>139.000000</td>\n",
       "      <td>139.0</td>\n",
       "    </tr>\n",
       "    <tr>\n",
       "      <th>5</th>\n",
       "      <td>2GB</td>\n",
       "      <td>142.333333</td>\n",
       "      <td>139.0</td>\n",
       "    </tr>\n",
       "    <tr>\n",
       "      <th>6</th>\n",
       "      <td>3GB</td>\n",
       "      <td>284.323529</td>\n",
       "      <td>154.0</td>\n",
       "    </tr>\n",
       "    <tr>\n",
       "      <th>7</th>\n",
       "      <td>4GB</td>\n",
       "      <td>643.130137</td>\n",
       "      <td>200.0</td>\n",
       "    </tr>\n",
       "    <tr>\n",
       "      <th>8</th>\n",
       "      <td>6GB</td>\n",
       "      <td>481.237864</td>\n",
       "      <td>329.0</td>\n",
       "    </tr>\n",
       "    <tr>\n",
       "      <th>9</th>\n",
       "      <td>8GB</td>\n",
       "      <td>553.860065</td>\n",
       "      <td>464.5</td>\n",
       "    </tr>\n",
       "    <tr>\n",
       "      <th>10</th>\n",
       "      <td>8GB / 12GB</td>\n",
       "      <td>1199.000000</td>\n",
       "      <td>1199.0</td>\n",
       "    </tr>\n",
       "  </tbody>\n",
       "</table>\n",
       "</div>"
      ],
      "text/plain": [
       "           RAM         mean  median\n",
       "0        1.5GB   114.000000   114.0\n",
       "1         10GB   799.000000   799.0\n",
       "2         12GB   902.905492   799.0\n",
       "3         16GB   960.096774   999.0\n",
       "4          1GB   139.000000   139.0\n",
       "5          2GB   142.333333   139.0\n",
       "6          3GB   284.323529   154.0\n",
       "7          4GB   643.130137   200.0\n",
       "8          6GB   481.237864   329.0\n",
       "9          8GB   553.860065   464.5\n",
       "10  8GB / 12GB  1199.000000  1199.0"
      ]
     },
     "execution_count": 10,
     "metadata": {},
     "output_type": "execute_result"
    }
   ],
   "source": [
    "Company_Ram =df.groupby(['RAM'], as_index= False)['Launched Price (USA)'].agg(['mean', 'median'])\n",
    "Company_Ram"
   ]
  },
  {
   "cell_type": "code",
   "execution_count": 14,
   "metadata": {},
   "outputs": [
    {
     "data": {
      "text/plain": [
       "<Axes: xlabel='RAM'>"
      ]
     },
     "execution_count": 14,
     "metadata": {},
     "output_type": "execute_result"
    },
    {
     "data": {
      "image/png": "[encoded data removed]",
      "text/plain": [
       "<Figure size 640x480 with 1 Axes>"
      ]
     },
     "metadata": {},
     "output_type": "display_data"
    }
   ],
   "source": [
    "Company_Ram.plot(x='RAM', y = 'mean', kind = 'bar', color = 'skyblue')"
   ]
  },
  {
   "cell_type": "code",
   "execution_count": null,
   "metadata": {},
   "outputs": [],
   "source": []
  }
 ],
 "metadata": {
  "kernelspec": {
   "display_name": "base",
   "language": "python",
   "name": "python3"
  },
  "language_info": {
   "codemirror_mode": {
    "name": "ipython",
    "version": 3
   },
   "file_extension": ".py",
   "mimetype": "text/x-python",
   "name": "python",
   "nbconvert_exporter": "python",
   "pygments_lexer": "ipython3",
   "version": "3.11.7"
  }
 },
 "nbformat": 4,
 "nbformat_minor": 2
}
